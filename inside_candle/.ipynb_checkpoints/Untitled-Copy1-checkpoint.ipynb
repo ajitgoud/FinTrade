{
 "cells": [
  {
   "cell_type": "code",
   "execution_count": 3,
   "id": "86f2c190-707c-4d64-9906-e92dfaf41fd2",
   "metadata": {},
   "outputs": [],
   "source": [
    "import pandas as pd\n",
    "import os"
   ]
  },
  {
   "cell_type": "code",
   "execution_count": 4,
   "id": "84255535-21b0-4b8d-83b3-160fc0e27d5b",
   "metadata": {},
   "outputs": [
    {
     "data": {
      "text/plain": [
       "'D:\\\\_Learnings\\\\Career\\\\Share market\\\\FinTrade\\\\inside_candle'"
      ]
     },
     "execution_count": 4,
     "metadata": {},
     "output_type": "execute_result"
    }
   ],
   "source": [
    "os.getcwd()"
   ]
  },
  {
   "cell_type": "markdown",
   "id": "ac7ca6ee-d310-4def-92c2-70c3b83db9d6",
   "metadata": {},
   "source": [
    "## Initializing the required vars"
   ]
  },
  {
   "cell_type": "code",
   "execution_count": 2,
   "id": "10ac0e67-f661-4e0a-8614-75895f94f49c",
   "metadata": {},
   "outputs": [],
   "source": [
    "# dir_path = os.path.dirname(os.path.realpath(__file__))\n",
    "dir_path = \"D:\\_Learnings\\Career\\Share market\\FinTrade\\inside_candle\"\n",
    "\n",
    "# Nifty top 500\n",
    "nifty_500_input_name = \"nifty_500.csv\"\n",
    "nifty_500_input_name =  os.path.join(dir_path, \"DailyHistoricalData\", nifty_500_input_name)\n",
    "\n",
    "\n",
    "# Nifty top 50\n",
    "nifty_50_input_name = \"nifty_50.csv\"\n",
    "nifty_50_input_name =  os.path.join(dir_path, \"DailyHistoricalData\", nifty_50_input_name)\n",
    "\n",
    "\n",
    "# Nifty top 100\n",
    "nifty_100_input_name = \"nifty_100.csv\"\n",
    "nifty_100_input_name =  os.path.join(dir_path, \"DailyHistoricalData\", nifty_100_input_name)\n",
    "\n",
    "\n",
    "# Nifty top mid 150\n",
    "nifty_mid_150_input_name = \"nifty_mid_150.csv\"\n",
    "nifty_mid_150_input_name =  os.path.join(dir_path, \"DailyHistoricalData\", nifty_mid_150_input_name)\n",
    "\n",
    "\n",
    "# Nifty top small 250\n",
    "nifty_small_250_input_name = \"nifty_small_250.csv\"\n",
    "nifty_small_250_input_name =  os.path.join(dir_path, \"DailyHistoricalData\", nifty_small_250_input_name)\n",
    "\n",
    "\n",
    "current_date_input_file = \"20220627.csv\"\n",
    "current_date_input_file =  os.path.join(dir_path, \"DailyHistoricalData\", current_date_input_file)\n",
    "\n",
    "previous_date_input_file = \"20220624.csv\"\n",
    "previous_date_input_file =  os.path.join(dir_path, \"DailyHistoricalData\", previous_date_input_file)"
   ]
  },
  {
   "cell_type": "markdown",
   "id": "32310707-cb28-46b3-8f41-c51eb6f5e6a7",
   "metadata": {
    "tags": []
   },
   "source": [
    "## Reading current date and previous day input data"
   ]
  },
  {
   "cell_type": "code",
   "execution_count": 3,
   "id": "00f4efe0-ef8a-4495-b041-b2e97c1d7636",
   "metadata": {},
   "outputs": [],
   "source": [
    "nifty_500_df = pd.read_csv(nifty_500_input_name)\n",
    "\n",
    "nifty_50_df = pd.read_csv(nifty_50_input_name)\n",
    "nifty_100_df = pd.read_csv(nifty_100_input_name)\n",
    "nifty_mid_150_df = pd.read_csv(nifty_mid_150_input_name)\n",
    "nifty_small_250_df = pd.read_csv(nifty_small_250_input_name)\n",
    "\n",
    "current_df = pd.read_csv(current_date_input_file)\n",
    "previous_df = pd.read_csv(previous_date_input_file)"
   ]
  },
  {
   "cell_type": "code",
   "execution_count": 4,
   "id": "cf2f3c7d-e26e-4081-8a60-ebd1edf39a1b",
   "metadata": {},
   "outputs": [],
   "source": [
    "current_df = current_df.rename(columns=lambda x: x.strip())\n",
    "previous_df= previous_df.rename(columns=lambda x: x.strip())"
   ]
  },
  {
   "cell_type": "code",
   "execution_count": 5,
   "id": "d8364098-022e-4ae4-a7d0-e91a0fea2706",
   "metadata": {},
   "outputs": [],
   "source": [
    "def isInsideCandle(O,H,L,C):\n",
    "    change = O - C\n",
    "    percentage_change = (abs(change/O)) * 100\n",
    "    wick_change_threshold = 3 * percentage_change\n",
    "    if change >= 0:\n",
    "        change_H = H - C \n",
    "        change_L = abs(L - O)\n",
    "        change_H = (change_H/C)*100\n",
    "        change_L = (change_L/O)*100\n",
    "    else:\n",
    "        change_H = H - O \n",
    "        change_L = abs(L - O)\n",
    "        change_H = (change_H/O)*100\n",
    "        change_L = (change_L/C)*100\n",
    "        \n",
    "    wick_change = change_H > wick_change_threshold and change_L > wick_change_threshold\n",
    "    \n",
    "    \n",
    "    \n",
    "    if percentage_change < 0.2 and wick_change :\n",
    "        return True\n",
    "    return False"
   ]
  },
  {
   "cell_type": "markdown",
   "id": "15da7934-9460-41e2-a4ba-aa4820e7940e",
   "metadata": {},
   "source": [
    "## Cleaning data Nifty 500"
   ]
  },
  {
   "cell_type": "code",
   "execution_count": 6,
   "id": "14438e30-7fc2-449e-9e48-0dc7b02a068f",
   "metadata": {},
   "outputs": [],
   "source": [
    "# Cleaning data and saving only EQ and Nifty 500\n",
    "nifty_500s = nifty_500_df[\"Symbol\"]\n",
    "\n",
    "current_df = current_df.loc[current_df['SERIES'] == 'EQ']\n",
    "current_df= current_df.loc[current_df['SYMBOL'].isin(nifty_500s)]\n",
    "\n",
    "previous_df = previous_df.loc[previous_df['SERIES'] == 'EQ']\n",
    "previous_df = previous_df.loc[previous_df['SYMBOL'].isin(nifty_500s)]"
   ]
  },
  {
   "cell_type": "code",
   "execution_count": 7,
   "id": "dcdc8cd3-e8c8-4aba-81ea-2ad5bbf9575d",
   "metadata": {},
   "outputs": [
    {
     "data": {
      "text/plain": [
       "0            ACC\n",
       "1     ASAHIINDIA\n",
       "2           BBTC\n",
       "3       BLUEDART\n",
       "4     CASTROLIND\n",
       "5         CHALET\n",
       "6         CYIENT\n",
       "7       EIDPARRY\n",
       "8            EPL\n",
       "9        FINEORG\n",
       "10      GOCOLORS\n",
       "11    GODFRYPHLP\n",
       "12          GPPL\n",
       "13          GSPL\n",
       "14     GUJALKALI\n",
       "15         HUDCO\n",
       "16          ICIL\n",
       "17          IDEA\n",
       "18    INDIGOPNTS\n",
       "19    JUBLINGREA\n",
       "20      KPITTECH\n",
       "21          KRBL\n",
       "22         LODHA\n",
       "23          LTTS\n",
       "24         LUPIN\n",
       "25     MAHINDCIE\n",
       "26    MANAPPURAM\n",
       "27        MARUTI\n",
       "28    MCDOWELL-N\n",
       "29    MOTILALOFS\n",
       "30           MRF\n",
       "31      MTARTECH\n",
       "32    MUTHOOTFIN\n",
       "33     NESTLEIND\n",
       "34          OFSS\n",
       "35          PGHH\n",
       "36      PNCINFRA\n",
       "37    POONAWALLA\n",
       "38    PRINCEPIPE\n",
       "39           RBA\n",
       "40           RCF\n",
       "41       SBILIFE\n",
       "42         TANLA\n",
       "43    TATACOFFEE\n",
       "44        TCIEXP\n",
       "45          VEDL\n",
       "46        VIJAYA\n",
       "Name: SYMBOL, dtype: object"
      ]
     },
     "execution_count": 7,
     "metadata": {},
     "output_type": "execute_result"
    }
   ],
   "source": [
    "current_df['InsideCandle'] = current_df.apply(lambda row: isInsideCandle(row['OPEN'], row['HIGH'], row['LOW'], row['CLOSE']), axis=1)\n",
    "trade_500_df = current_df.loc[current_df['InsideCandle'] == True]\n",
    "trade_500_df = trade_500_df.reset_index()\n",
    "trade_500_df.SYMBOL"
   ]
  },
  {
   "cell_type": "markdown",
   "id": "ac72cb8c-52a9-4897-8c5d-16dfd3b7aeb6",
   "metadata": {},
   "source": [
    "## Nifty 50"
   ]
  },
  {
   "cell_type": "code",
   "execution_count": 8,
   "id": "b069a2f9-8aee-4f73-b1f9-749007d505fb",
   "metadata": {},
   "outputs": [],
   "source": [
    "# Cleaning data and saving only EQ and Nifty 500\n",
    "nifty_50s = nifty_50_df[\"Symbol\"]\n",
    "\n",
    "current_50_df= current_df.loc[current_df['SYMBOL'].isin(nifty_50s)]\n",
    "previous_50_df = previous_df.loc[previous_df['SYMBOL'].isin(nifty_50s)]"
   ]
  },
  {
   "cell_type": "code",
   "execution_count": 9,
   "id": "0d9a219f-f473-4bfe-a4f5-3058fb3eafe3",
   "metadata": {},
   "outputs": [
    {
     "data": {
      "text/plain": [
       "0       MARUTI\n",
       "1    NESTLEIND\n",
       "2      SBILIFE\n",
       "Name: SYMBOL, dtype: object"
      ]
     },
     "execution_count": 9,
     "metadata": {},
     "output_type": "execute_result"
    }
   ],
   "source": [
    "trade_50_df = current_50_df.loc[current_50_df['InsideCandle'] == True]\n",
    "trade_50_df = trade_50_df.reset_index()\n",
    "trade_50_df.SYMBOL"
   ]
  },
  {
   "cell_type": "markdown",
   "id": "73e35206-690d-46ff-91a4-fdc7ba4759b8",
   "metadata": {},
   "source": [
    "## Nifty 100"
   ]
  },
  {
   "cell_type": "code",
   "execution_count": 10,
   "id": "79e604aa-f633-4b86-a51e-14831b9e91f9",
   "metadata": {},
   "outputs": [],
   "source": [
    "# Cleaning data and saving only EQ and Nifty 500\n",
    "nifty_100s = nifty_100_df[\"Symbol\"]\n",
    "\n",
    "current_100_df= current_df.loc[current_df['SYMBOL'].isin(nifty_100s)]\n",
    "\n",
    "previous_100_df = previous_df.loc[previous_df['SYMBOL'].isin(nifty_100s)]"
   ]
  },
  {
   "cell_type": "code",
   "execution_count": 11,
   "id": "b8afb038-9e6d-4d01-83a4-104812e4e557",
   "metadata": {},
   "outputs": [
    {
     "data": {
      "text/plain": [
       "0           ACC\n",
       "1         LUPIN\n",
       "2        MARUTI\n",
       "3    MCDOWELL-N\n",
       "4    MUTHOOTFIN\n",
       "5     NESTLEIND\n",
       "6          PGHH\n",
       "7       SBILIFE\n",
       "8          VEDL\n",
       "Name: SYMBOL, dtype: object"
      ]
     },
     "execution_count": 11,
     "metadata": {},
     "output_type": "execute_result"
    }
   ],
   "source": [
    "trade_100_df = current_100_df.loc[current_100_df['InsideCandle'] == True]\n",
    "trade_100_df = trade_100_df.reset_index()\n",
    "trade_100_df.SYMBOL"
   ]
  },
  {
   "cell_type": "markdown",
   "id": "7cdc8eb6-7bad-48f6-941b-b5fdf7d9655c",
   "metadata": {},
   "source": [
    "## Nifty mid 150"
   ]
  },
  {
   "cell_type": "code",
   "execution_count": 12,
   "id": "284684f8-2930-42b4-b696-6df2ae0bc04d",
   "metadata": {},
   "outputs": [],
   "source": [
    "# Cleaning data and saving only EQ and Nifty 500\n",
    "nifty_mid_150s = nifty_mid_150_df[\"Symbol\"]\n",
    "\n",
    "current_150_df= current_df.loc[current_df['SYMBOL'].isin(nifty_mid_150s)]\n",
    "\n",
    "previous_150_df = previous_df.loc[previous_df['SYMBOL'].isin(nifty_mid_150s)]"
   ]
  },
  {
   "cell_type": "code",
   "execution_count": 13,
   "id": "2a87255c-60bb-4ec4-acf5-77733e4984c5",
   "metadata": {},
   "outputs": [
    {
     "data": {
      "text/plain": [
       "0      BLUEDART\n",
       "1          GSPL\n",
       "2          IDEA\n",
       "3         LODHA\n",
       "4          LTTS\n",
       "5    MANAPPURAM\n",
       "6           MRF\n",
       "7          OFSS\n",
       "Name: SYMBOL, dtype: object"
      ]
     },
     "execution_count": 13,
     "metadata": {},
     "output_type": "execute_result"
    }
   ],
   "source": [
    "trade_150_df = current_150_df.loc[current_150_df['InsideCandle'] == True]\n",
    "trade_150_df = trade_150_df.reset_index()\n",
    "trade_150_df.SYMBOL"
   ]
  },
  {
   "cell_type": "markdown",
   "id": "61b36175-8a2c-46aa-86bd-7e1cc6fef2b2",
   "metadata": {},
   "source": [
    "## Nifty small 250"
   ]
  },
  {
   "cell_type": "code",
   "execution_count": 14,
   "id": "ee508cd4-7137-400a-9a33-72eac2427f1c",
   "metadata": {},
   "outputs": [],
   "source": [
    "# Cleaning data and saving only EQ and Nifty 500\n",
    "nifty_small_250s = nifty_small_250_df[\"Symbol\"]\n",
    "\n",
    "current_250_df= current_df.loc[current_df['SYMBOL'].isin(nifty_small_250s)]\n",
    "\n",
    "previous_250_df = previous_df.loc[previous_df['SYMBOL'].isin(nifty_small_250s)]"
   ]
  },
  {
   "cell_type": "code",
   "execution_count": 15,
   "id": "a96878e2-017b-4176-9f4b-f6e4fe2c059b",
   "metadata": {},
   "outputs": [
    {
     "data": {
      "text/plain": [
       "0     ASAHIINDIA\n",
       "1           BBTC\n",
       "2     CASTROLIND\n",
       "3         CHALET\n",
       "4         CYIENT\n",
       "5       EIDPARRY\n",
       "6            EPL\n",
       "7        FINEORG\n",
       "8       GOCOLORS\n",
       "9     GODFRYPHLP\n",
       "10          GPPL\n",
       "11     GUJALKALI\n",
       "12         HUDCO\n",
       "13          ICIL\n",
       "14    INDIGOPNTS\n",
       "15    JUBLINGREA\n",
       "16      KPITTECH\n",
       "17          KRBL\n",
       "18     MAHINDCIE\n",
       "19    MOTILALOFS\n",
       "20      MTARTECH\n",
       "21      PNCINFRA\n",
       "22    POONAWALLA\n",
       "23    PRINCEPIPE\n",
       "24           RBA\n",
       "25           RCF\n",
       "26         TANLA\n",
       "27    TATACOFFEE\n",
       "28        TCIEXP\n",
       "29        VIJAYA\n",
       "Name: SYMBOL, dtype: object"
      ]
     },
     "execution_count": 15,
     "metadata": {},
     "output_type": "execute_result"
    }
   ],
   "source": [
    "trade_250_df = current_250_df.loc[current_250_df['InsideCandle'] == True]\n",
    "trade_250_df = trade_250_df.reset_index()\n",
    "trade_250_df.SYMBOL"
   ]
  },
  {
   "cell_type": "code",
   "execution_count": null,
   "id": "d5739b41-7a8d-4c40-8cbe-12b984117bde",
   "metadata": {},
   "outputs": [],
   "source": []
  }
 ],
 "metadata": {
  "kernelspec": {
   "display_name": "Python 3 (ipykernel)",
   "language": "python",
   "name": "python3"
  },
  "language_info": {
   "codemirror_mode": {
    "name": "ipython",
    "version": 3
   },
   "file_extension": ".py",
   "mimetype": "text/x-python",
   "name": "python",
   "nbconvert_exporter": "python",
   "pygments_lexer": "ipython3",
   "version": "3.10.2"
  }
 },
 "nbformat": 4,
 "nbformat_minor": 5
}
