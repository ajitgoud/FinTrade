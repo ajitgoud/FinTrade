{
 "cells": [
  {
   "cell_type": "code",
   "execution_count": 1,
   "id": "86f2c190-707c-4d64-9906-e92dfaf41fd2",
   "metadata": {},
   "outputs": [],
   "source": [
    "import pandas as pd\n",
    "import os"
   ]
  },
  {
   "cell_type": "markdown",
   "id": "ac7ca6ee-d310-4def-92c2-70c3b83db9d6",
   "metadata": {},
   "source": [
    "## Initializing the required vars"
   ]
  },
  {
   "cell_type": "code",
   "execution_count": 2,
   "id": "10ac0e67-f661-4e0a-8614-75895f94f49c",
   "metadata": {},
   "outputs": [],
   "source": [
    "# dir_path = os.path.dirname(os.path.realpath(__file__))\n",
    "dir_path = \"D:\\_Learnings\\Career\\Share market\\FinTrade\\inside_candle\"\n",
    "\n",
    "# Nifty top 500\n",
    "nifty_500_input_name = \"nifty_500.csv\"\n",
    "nifty_500_input_name =  os.path.join(dir_path, \"DailyHistoricalData\", nifty_500_input_name)\n",
    "\n",
    "\n",
    "# Nifty top 50\n",
    "nifty_50_input_name = \"nifty_50.csv\"\n",
    "nifty_50_input_name =  os.path.join(dir_path, \"DailyHistoricalData\", nifty_50_input_name)\n",
    "\n",
    "\n",
    "# Nifty top 100\n",
    "nifty_100_input_name = \"nifty_100.csv\"\n",
    "nifty_100_input_name =  os.path.join(dir_path, \"DailyHistoricalData\", nifty_100_input_name)\n",
    "\n",
    "\n",
    "# Nifty top mid 150\n",
    "nifty_mid_150_input_name = \"nifty_mid_150.csv\"\n",
    "nifty_mid_150_input_name =  os.path.join(dir_path, \"DailyHistoricalData\", nifty_mid_150_input_name)\n",
    "\n",
    "\n",
    "# Nifty top small 250\n",
    "nifty_small_250_input_name = \"nifty_small_250.csv\"\n",
    "nifty_small_250_input_name =  os.path.join(dir_path, \"DailyHistoricalData\", nifty_small_250_input_name)\n",
    "\n",
    "\n",
    "current_date_input_file = \"20220627.csv\"\n",
    "current_date_input_file =  os.path.join(dir_path, \"DailyHistoricalData\", current_date_input_file)\n",
    "\n",
    "previous_date_input_file = \"20220624.csv\"\n",
    "previous_date_input_file =  os.path.join(dir_path, \"DailyHistoricalData\", previous_date_input_file)"
   ]
  },
  {
   "cell_type": "markdown",
   "id": "32310707-cb28-46b3-8f41-c51eb6f5e6a7",
   "metadata": {
    "tags": []
   },
   "source": [
    "## Reading current date and previous day input data"
   ]
  },
  {
   "cell_type": "code",
   "execution_count": 3,
   "id": "00f4efe0-ef8a-4495-b041-b2e97c1d7636",
   "metadata": {},
   "outputs": [],
   "source": [
    "nifty_500_df = pd.read_csv(nifty_500_input_name)\n",
    "\n",
    "nifty_50_df = pd.read_csv(nifty_50_input_name)\n",
    "nifty_100_df = pd.read_csv(nifty_100_input_name)\n",
    "nifty_mid_150_df = pd.read_csv(nifty_mid_150_input_name)\n",
    "nifty_small_250_df = pd.read_csv(nifty_small_250_input_name)\n",
    "\n",
    "current_df = pd.read_csv(current_date_input_file)\n",
    "previous_df = pd.read_csv(previous_date_input_file)"
   ]
  },
  {
   "cell_type": "code",
   "execution_count": 4,
   "id": "cf2f3c7d-e26e-4081-8a60-ebd1edf39a1b",
   "metadata": {},
   "outputs": [],
   "source": [
    "current_df = current_df.rename(columns=lambda x: x.strip())\n",
    "previous_df= previous_df.rename(columns=lambda x: x.strip())"
   ]
  },
  {
   "cell_type": "code",
   "execution_count": 5,
   "id": "d8364098-022e-4ae4-a7d0-e91a0fea2706",
   "metadata": {},
   "outputs": [],
   "source": [
    "def isInsideCandle(O,H,L,C):\n",
    "    change = O - C\n",
    "    percentage_change = (abs(change/O)) * 100\n",
    "    wick_change_threshold = 3 * percentage_change\n",
    "    if change >= 0:\n",
    "        change_H = H - C \n",
    "        change_L = abs(L - O)\n",
    "        change_H = (change_H/C)*100\n",
    "        change_L = (change_L/O)*100\n",
    "    else:\n",
    "        change_H = H - O \n",
    "        change_L = abs(L - O)\n",
    "        change_H = (change_H/O)*100\n",
    "        change_L = (change_L/C)*100\n",
    "        \n",
    "    wick_change = change_H > wick_change_threshold and change_L > wick_change_threshold\n",
    "    \n",
    "    \n",
    "    \n",
    "    if percentage_change < 0.2 and wick_change :\n",
    "        return True\n",
    "    return False"
   ]
  },
  {
   "cell_type": "markdown",
   "id": "15da7934-9460-41e2-a4ba-aa4820e7940e",
   "metadata": {},
   "source": [
    "## Cleaning data Nifty 500"
   ]
  },
  {
   "cell_type": "code",
   "execution_count": 6,
   "id": "14438e30-7fc2-449e-9e48-0dc7b02a068f",
   "metadata": {},
   "outputs": [],
   "source": [
    "# Cleaning data and saving only EQ and Nifty 500\n",
    "nifty_500s = nifty_500_df[\"Symbol\"]\n",
    "\n",
    "current_df = current_df.loc[current_df['SERIES'] == 'EQ']\n",
    "current_df= current_df.loc[current_df['SYMBOL'].isin(nifty_500s)]\n",
    "\n",
    "previous_df = previous_df.loc[previous_df['SERIES'] == 'EQ']\n",
    "previous_df = previous_df.loc[previous_df['SYMBOL'].isin(nifty_500s)]"
   ]
  },
  {
   "cell_type": "code",
   "execution_count": 7,
   "id": "dcdc8cd3-e8c8-4aba-81ea-2ad5bbf9575d",
   "metadata": {},
   "outputs": [
    {
     "data": {
      "text/plain": [
       "0            ABB\n",
       "1            ACC\n",
       "2     APOLLOTYRE\n",
       "3       ASTRAZEN\n",
       "4       AXISBANK\n",
       "5      BAJAJELEC\n",
       "6         BIOCON\n",
       "7       BLUEDART\n",
       "8     CHOLAHLDNG\n",
       "9          CIPLA\n",
       "10     ELGIEQUIP\n",
       "11       ESCORTS\n",
       "12      EXIDEIND\n",
       "13          FACT\n",
       "14           FDC\n",
       "15       FINEORG\n",
       "16         GLAXO\n",
       "17    GMMPFAUDLR\n",
       "18          GNFC\n",
       "19    GODREJAGRO\n",
       "20    GODREJPROP\n",
       "21     GRINDWELL\n",
       "22    HAPPSTMNDS\n",
       "23       HAVELLS\n",
       "24      HEMIPROP\n",
       "25      HINDALCO\n",
       "26     INDIAMART\n",
       "27          ISEC\n",
       "28           ITC\n",
       "29      JUBLFOOD\n",
       "30     KOTAKBANK\n",
       "31       MEDPLUS\n",
       "32          MOIL\n",
       "33    MOTILALOFS\n",
       "34      MTARTECH\n",
       "35    POWERINDIA\n",
       "36        RECLTD\n",
       "37          SAIL\n",
       "38       STLTECH\n",
       "39    SUPREMEIND\n",
       "40      SYMPHONY\n",
       "41    TATAMOTORS\n",
       "42        TIMKEN\n",
       "Name: SYMBOL, dtype: object"
      ]
     },
     "execution_count": 7,
     "metadata": {},
     "output_type": "execute_result"
    }
   ],
   "source": [
    "current_df['InsideCandle'] = current_df.apply(lambda row: isInsideCandle(row['OPEN'], row['HIGH'], row['LOW'], row['CLOSE']), axis=1)\n",
    "trade_500_df = current_df.loc[current_df['InsideCandle'] == True]\n",
    "trade_500_df = trade_500_df.reset_index()\n",
    "trade_500_df.SYMBOL"
   ]
  },
  {
   "cell_type": "markdown",
   "id": "ac72cb8c-52a9-4897-8c5d-16dfd3b7aeb6",
   "metadata": {},
   "source": [
    "## Nifty 50"
   ]
  },
  {
   "cell_type": "code",
   "execution_count": 8,
   "id": "b069a2f9-8aee-4f73-b1f9-749007d505fb",
   "metadata": {},
   "outputs": [],
   "source": [
    "# Cleaning data and saving only EQ and Nifty 500\n",
    "nifty_50s = nifty_50_df[\"Symbol\"]\n",
    "\n",
    "current_50_df= current_df.loc[current_df['SYMBOL'].isin(nifty_50s)]\n",
    "previous_50_df = previous_df.loc[previous_df['SYMBOL'].isin(nifty_50s)]"
   ]
  },
  {
   "cell_type": "code",
   "execution_count": 9,
   "id": "0d9a219f-f473-4bfe-a4f5-3058fb3eafe3",
   "metadata": {},
   "outputs": [
    {
     "data": {
      "text/plain": [
       "0      AXISBANK\n",
       "1         CIPLA\n",
       "2      HINDALCO\n",
       "3           ITC\n",
       "4     KOTAKBANK\n",
       "5    TATAMOTORS\n",
       "Name: SYMBOL, dtype: object"
      ]
     },
     "execution_count": 9,
     "metadata": {},
     "output_type": "execute_result"
    }
   ],
   "source": [
    "trade_50_df = current_50_df.loc[current_50_df['InsideCandle'] == True]\n",
    "trade_50_df = trade_50_df.reset_index()\n",
    "trade_50_df.SYMBOL"
   ]
  },
  {
   "cell_type": "markdown",
   "id": "73e35206-690d-46ff-91a4-fdc7ba4759b8",
   "metadata": {},
   "source": [
    "## Nifty 100"
   ]
  },
  {
   "cell_type": "code",
   "execution_count": 10,
   "id": "79e604aa-f633-4b86-a51e-14831b9e91f9",
   "metadata": {},
   "outputs": [],
   "source": [
    "# Cleaning data and saving only EQ and Nifty 500\n",
    "nifty_100s = nifty_100_df[\"Symbol\"]\n",
    "\n",
    "current_100_df= current_df.loc[current_df['SYMBOL'].isin(nifty_100s)]\n",
    "\n",
    "previous_100_df = previous_df.loc[previous_df['SYMBOL'].isin(nifty_100s)]"
   ]
  },
  {
   "cell_type": "code",
   "execution_count": 11,
   "id": "b8afb038-9e6d-4d01-83a4-104812e4e557",
   "metadata": {},
   "outputs": [
    {
     "data": {
      "text/plain": [
       "0            ACC\n",
       "1       AXISBANK\n",
       "2         BIOCON\n",
       "3          CIPLA\n",
       "4        HAVELLS\n",
       "5       HINDALCO\n",
       "6            ITC\n",
       "7       JUBLFOOD\n",
       "8      KOTAKBANK\n",
       "9           SAIL\n",
       "10    TATAMOTORS\n",
       "Name: SYMBOL, dtype: object"
      ]
     },
     "execution_count": 11,
     "metadata": {},
     "output_type": "execute_result"
    }
   ],
   "source": [
    "trade_100_df = current_100_df.loc[current_100_df['InsideCandle'] == True]\n",
    "trade_100_df = trade_100_df.reset_index()\n",
    "trade_100_df.SYMBOL"
   ]
  },
  {
   "cell_type": "markdown",
   "id": "7cdc8eb6-7bad-48f6-941b-b5fdf7d9655c",
   "metadata": {},
   "source": [
    "## Nifty mid 150"
   ]
  },
  {
   "cell_type": "code",
   "execution_count": 12,
   "id": "284684f8-2930-42b4-b696-6df2ae0bc04d",
   "metadata": {},
   "outputs": [],
   "source": [
    "# Cleaning data and saving only EQ and Nifty 500\n",
    "nifty_mid_150s = nifty_mid_150_df[\"Symbol\"]\n",
    "\n",
    "current_150_df= current_df.loc[current_df['SYMBOL'].isin(nifty_mid_150s)]\n",
    "\n",
    "previous_150_df = previous_df.loc[previous_df['SYMBOL'].isin(nifty_mid_150s)]"
   ]
  },
  {
   "cell_type": "code",
   "execution_count": 13,
   "id": "2a87255c-60bb-4ec4-acf5-77733e4984c5",
   "metadata": {},
   "outputs": [
    {
     "data": {
      "text/plain": [
       "0            ABB\n",
       "1     APOLLOTYRE\n",
       "2       BLUEDART\n",
       "3        ESCORTS\n",
       "4       EXIDEIND\n",
       "5          GLAXO\n",
       "6     GODREJPROP\n",
       "7      GRINDWELL\n",
       "8     HAPPSTMNDS\n",
       "9      INDIAMART\n",
       "10          ISEC\n",
       "11        RECLTD\n",
       "12    SUPREMEIND\n",
       "Name: SYMBOL, dtype: object"
      ]
     },
     "execution_count": 13,
     "metadata": {},
     "output_type": "execute_result"
    }
   ],
   "source": [
    "trade_150_df = current_150_df.loc[current_150_df['InsideCandle'] == True]\n",
    "trade_150_df = trade_150_df.reset_index()\n",
    "trade_150_df.SYMBOL"
   ]
  },
  {
   "cell_type": "markdown",
   "id": "61b36175-8a2c-46aa-86bd-7e1cc6fef2b2",
   "metadata": {},
   "source": [
    "## Nifty small 250"
   ]
  },
  {
   "cell_type": "code",
   "execution_count": 14,
   "id": "ee508cd4-7137-400a-9a33-72eac2427f1c",
   "metadata": {},
   "outputs": [],
   "source": [
    "# Cleaning data and saving only EQ and Nifty 500\n",
    "nifty_small_250s = nifty_small_250_df[\"Symbol\"]\n",
    "\n",
    "current_250_df= current_df.loc[current_df['SYMBOL'].isin(nifty_small_250s)]\n",
    "\n",
    "previous_250_df = previous_df.loc[previous_df['SYMBOL'].isin(nifty_small_250s)]"
   ]
  },
  {
   "cell_type": "code",
   "execution_count": 15,
   "id": "a96878e2-017b-4176-9f4b-f6e4fe2c059b",
   "metadata": {},
   "outputs": [
    {
     "data": {
      "text/plain": [
       "0       ASTRAZEN\n",
       "1      BAJAJELEC\n",
       "2     CHOLAHLDNG\n",
       "3      ELGIEQUIP\n",
       "4           FACT\n",
       "5            FDC\n",
       "6        FINEORG\n",
       "7     GMMPFAUDLR\n",
       "8           GNFC\n",
       "9     GODREJAGRO\n",
       "10      HEMIPROP\n",
       "11       MEDPLUS\n",
       "12          MOIL\n",
       "13    MOTILALOFS\n",
       "14      MTARTECH\n",
       "15    POWERINDIA\n",
       "16       STLTECH\n",
       "17      SYMPHONY\n",
       "18        TIMKEN\n",
       "Name: SYMBOL, dtype: object"
      ]
     },
     "execution_count": 15,
     "metadata": {},
     "output_type": "execute_result"
    }
   ],
   "source": [
    "trade_250_df = current_250_df.loc[current_250_df['InsideCandle'] == True]\n",
    "trade_250_df = trade_250_df.reset_index()\n",
    "trade_250_df.SYMBOL"
   ]
  },
  {
   "cell_type": "code",
   "execution_count": null,
   "id": "d5739b41-7a8d-4c40-8cbe-12b984117bde",
   "metadata": {},
   "outputs": [],
   "source": []
  }
 ],
 "metadata": {
  "kernelspec": {
   "display_name": "Python 3 (ipykernel)",
   "language": "python",
   "name": "python3"
  },
  "language_info": {
   "codemirror_mode": {
    "name": "ipython",
    "version": 3
   },
   "file_extension": ".py",
   "mimetype": "text/x-python",
   "name": "python",
   "nbconvert_exporter": "python",
   "pygments_lexer": "ipython3",
   "version": "3.10.2"
  }
 },
 "nbformat": 4,
 "nbformat_minor": 5
}
