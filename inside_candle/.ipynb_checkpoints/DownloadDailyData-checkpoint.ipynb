{
 "cells": [
  {
   "cell_type": "code",
   "execution_count": null,
   "id": "6a1d92a4-d4ae-476b-9881-cc7335d27231",
   "metadata": {},
   "outputs": [],
   "source": [
    "import os\n",
    "import shutil\n",
    "import wget\n",
    "import zipfile38 as zipfile\n",
    "from datetime import datetime, date"
   ]
  },
  {
   "cell_type": "code",
   "execution_count": null,
   "id": "cbeda41a-8c47-49ea-bbd8-af45482a8d4a",
   "metadata": {},
   "outputs": [],
   "source": [
    "base_historical_url=\"https://archives.nseindia.com/content/historical\"\n",
    "equities_url=f\"{base_historical_url}/EQUITIES\"\n",
    "bhavcopy_base_path = \"D:\\\\_Learnings\\\\Career\\\\Share market\\\\FinTrade\\\\inside_candle\""
   ]
  },
  {
   "cell_type": "markdown",
   "id": "691a813e-9171-47d0-a9f0-1bc4cbb1768d",
   "metadata": {},
   "source": [
    "##### bhav=\"https://archives.nseindia.com/content/historical/EQUITIES/2022/JUN/cm28JUN2022bhav.csv.zip\" "
   ]
  },
  {
   "cell_type": "code",
   "execution_count": null,
   "id": "c81ad9c8-2ea5-4ea3-9bf3-28adb26a4a76",
   "metadata": {},
   "outputs": [],
   "source": [
    "today = date.today()\n",
    "day, month_int, month, year = today.day,today.strftime(\"%m\"), today.strftime(\"%b\").upper(),today.year \n",
    "bhav_filename = f\"cm{day}{month}{year}bhav.csv.zip\"\n",
    "todays_bhavcopy_url = f\"{equities_url}/{year}/{month}/{bhav_filename}\"\n",
    "zip_bhavcopy = os.path.join(bhavcopy_base_path,bhav_filename)\n",
    "csv_bhavcopy = os.path.join(bhavcopy_base_path,\"DailyHistoricalData\")"
   ]
  },
  {
   "cell_type": "code",
   "execution_count": null,
   "id": "8ef627d1-a072-4998-b1ad-81aaafeaae52",
   "metadata": {},
   "outputs": [],
   "source": [
    "wget.download(todays_bhavcopy_url)"
   ]
  },
  {
   "cell_type": "code",
   "execution_count": null,
   "id": "59444d78-96b0-43a5-9626-cba9631460ad",
   "metadata": {},
   "outputs": [],
   "source": [
    "with zipfile.ZipFile(zip_bhavcopy, 'r') as zip_data:\n",
    "    zip_infos = zip_data.infolist()\n",
    "    for zip_info in zip_infos:\n",
    "        zip_info.filename = f\"{year}{month_int}{day}.csv\"\n",
    "        zip_data.extract(zip_info)"
   ]
  },
  {
   "cell_type": "code",
   "execution_count": null,
   "id": "204038ad-3a1b-44db-9856-ef074fd7bbc2",
   "metadata": {},
   "outputs": [],
   "source": [
    "csv_bhavcopy_src = os.path.join(bhavcopy_base_path, f\"{year}{month_int}{day}.csv\")\n",
    "csv_bhavcopy_dest = os.path.join(csv_bhavcopy, f\"{year}{month_int}{day}.csv\")\n",
    "shutil.move(csv_bhavcopy_src, csv_bhavcopy_dest)\n",
    "os.remove(zip_bhavcopy)"
   ]
  },
  {
   "cell_type": "code",
   "execution_count": null,
   "id": "7847b970-1540-43c8-b8ab-646d336cd129",
   "metadata": {},
   "outputs": [],
   "source": []
  }
 ],
 "metadata": {
  "kernelspec": {
   "display_name": "Python 3 (ipykernel)",
   "language": "python",
   "name": "python3"
  },
  "language_info": {
   "codemirror_mode": {
    "name": "ipython",
    "version": 3
   },
   "file_extension": ".py",
   "mimetype": "text/x-python",
   "name": "python",
   "nbconvert_exporter": "python",
   "pygments_lexer": "ipython3",
   "version": "3.10.2"
  }
 },
 "nbformat": 4,
 "nbformat_minor": 5
}
