{
 "cells": [
  {
   "cell_type": "code",
   "execution_count": null,
   "id": "25a49f2d-ee08-4735-abd5-ac08842b8699",
   "metadata": {},
   "outputs": [],
   "source": [
    "import requests\n",
    "from bs4 import BeautifulSoup"
   ]
  },
  {
   "cell_type": "code",
   "execution_count": null,
   "id": "8150890b-0891-499e-a745-094fc561bbdf",
   "metadata": {},
   "outputs": [],
   "source": [
    "headers = {\n",
    "    'Access-Control-Allow-Origin': '*',\n",
    "    'Access-Control-Allow-Methods': 'GET',\n",
    "    'Access-Control-Allow-Headers': 'Content-Type',\n",
    "    'Access-Control-Max-Age': '3600',\n",
    "    'User-Agent': 'Mozilla/5.0 (X11; Ubuntu; Linux x86_64; rv:52.0) Gecko/20100101 Firefox/52.0'\n",
    "    }\n",
    "\n",
    "\n",
    "URL = \"https://www.nseindia.com/all-reports\"\n",
    "page = requests.get(URL, headers)\n",
    "\n",
    "print(page.text)"
   ]
  },
  {
   "cell_type": "code",
   "execution_count": null,
   "id": "2502f338-834e-4683-b7f7-4070e219d543",
   "metadata": {},
   "outputs": [],
   "source": [
    "soup = BeautifulSoup(page.content, \"html.parser\")"
   ]
  },
  {
   "cell_type": "code",
   "execution_count": null,
   "id": "5abded22-7bb1-471d-83e1-ff9c0114d436",
   "metadata": {},
   "outputs": [],
   "source": [
    "bhav=\"https://archives.nseindia.com/content/historical/EQUITIES/2022/JUN/cm28JUN2022bhav.csv.zip\""
   ]
  },
  {
   "cell_type": "code",
   "execution_count": null,
   "id": "226864b5-57ad-42be-afab-f64c8ad90fe9",
   "metadata": {},
   "outputs": [],
   "source": [
    "import wget"
   ]
  },
  {
   "cell_type": "code",
   "execution_count": null,
   "id": "6cd79e26-9947-4510-aa46-d5dedfa01033",
   "metadata": {},
   "outputs": [],
   "source": [
    "url='https://golang.org/dl/go1.17.3.windows-amd64.zip'\n",
    "wget.download(bhav)"
   ]
  },
  {
   "cell_type": "code",
   "execution_count": null,
   "id": "5c7ecbfc-ddab-4ffa-b246-4d534bbaa3ec",
   "metadata": {},
   "outputs": [],
   "source": [
    "import zipfile38 as zipfile"
   ]
  },
  {
   "cell_type": "code",
   "execution_count": null,
   "id": "fe44b574-b431-4b65-a569-0be8975a8727",
   "metadata": {},
   "outputs": [],
   "source": [
    "with zipfile.ZipFile('D:\\\\_Learnings\\\\Career\\\\Share market\\\\FinTrade\\\\inside_candle\\\\cm28JUN2022bhav.csv.zip', 'r') as zip_ref:\n",
    "    zip_ref.extractall(\"D:\\\\_Learnings\\\\Career\\\\Share market\\\\FinTrade\\\\inside_candle\")"
   ]
  },
  {
   "cell_type": "code",
   "execution_count": null,
   "id": "dcd73bf3-45e0-4843-a8bf-8927e5b4273d",
   "metadata": {},
   "outputs": [],
   "source": [
    "# import zipfile\n",
    "\n",
    "# zipdata = zipfile.ZipFile('somefile.zip')\n",
    "# zipinfos = zipdata.infolist()\n",
    "\n",
    "# # iterate through each file\n",
    "# for zipinfo in zipinfos:\n",
    "#     # This will do the renaming\n",
    "#     zipinfo.filename = do_something_to(zipinfo.filename)\n",
    "#     zipdata.extract(zipinfo)"
   ]
  },
  {
   "cell_type": "code",
   "execution_count": null,
   "id": "36b465f1-20b4-4b53-bcc0-4efa9607daf7",
   "metadata": {},
   "outputs": [],
   "source": [
    "zd = zipfile.ZipFile('D:\\\\_Learnings\\\\Career\\\\Share market\\\\FinTrade\\\\inside_candle\\\\cm28JUN2022bhav.csv.zip')\n",
    "zinfos = zd.infolist()\n",
    "zinfos"
   ]
  },
  {
   "cell_type": "code",
   "execution_count": null,
   "id": "9d8cc063-74f8-4aa6-92f9-07e1814383a8",
   "metadata": {},
   "outputs": [],
   "source": [
    "for zinfo in zinfos:\n",
    "    zinfo.filename = '20220628.csv'\n",
    "    zd.extract(zinfo)"
   ]
  },
  {
   "cell_type": "code",
   "execution_count": null,
   "id": "a442d5a9-3846-4d73-b2b1-99da1d2077d7",
   "metadata": {},
   "outputs": [],
   "source": [
    "zd.close"
   ]
  },
  {
   "cell_type": "code",
   "execution_count": 2,
   "id": "77937a86-7af4-41ae-a94b-10bdfe826dae",
   "metadata": {},
   "outputs": [],
   "source": [
    "from datetime import datetime, date, timedelta\n",
    "day = date.today()# - timedelta(1)\n"
   ]
  },
  {
   "cell_type": "code",
   "execution_count": 5,
   "id": "548b6385-dad5-4146-9a7b-d3f081056cc5",
   "metadata": {},
   "outputs": [],
   "source": [
    "count = 20\n",
    "dates = []\n",
    "while count > 0:\n",
    "    if day.weekday() in [5,6]:\n",
    "        day = day - timedelta(1)\n",
    "    else:\n",
    "        dates.append(day)\n",
    "        day = day - timedelta(1)\n",
    "        count-=1"
   ]
  },
  {
   "cell_type": "code",
   "execution_count": 6,
   "id": "ef784294-bcfa-4961-93a5-1953b0732a06",
   "metadata": {},
   "outputs": [
    {
     "name": "stdout",
     "output_type": "stream",
     "text": [
      "[datetime.date(2022, 6, 29), datetime.date(2022, 6, 28), datetime.date(2022, 6, 27), datetime.date(2022, 6, 24), datetime.date(2022, 6, 23), datetime.date(2022, 6, 22), datetime.date(2022, 6, 21), datetime.date(2022, 6, 20), datetime.date(2022, 6, 17), datetime.date(2022, 6, 16), datetime.date(2022, 6, 15), datetime.date(2022, 6, 14), datetime.date(2022, 6, 13), datetime.date(2022, 6, 10), datetime.date(2022, 6, 9), datetime.date(2022, 6, 8), datetime.date(2022, 6, 7), datetime.date(2022, 6, 6), datetime.date(2022, 6, 3), datetime.date(2022, 6, 2)]\n"
     ]
    }
   ],
   "source": [
    "print(dates)"
   ]
  },
  {
   "cell_type": "code",
   "execution_count": null,
   "id": "a6a294ff-3718-4bf6-859a-ebc54027cc20",
   "metadata": {},
   "outputs": [],
   "source": []
  }
 ],
 "metadata": {
  "kernelspec": {
   "display_name": "Python 3 (ipykernel)",
   "language": "python",
   "name": "python3"
  },
  "language_info": {
   "codemirror_mode": {
    "name": "ipython",
    "version": 3
   },
   "file_extension": ".py",
   "mimetype": "text/x-python",
   "name": "python",
   "nbconvert_exporter": "python",
   "pygments_lexer": "ipython3",
   "version": "3.10.2"
  }
 },
 "nbformat": 4,
 "nbformat_minor": 5
}
