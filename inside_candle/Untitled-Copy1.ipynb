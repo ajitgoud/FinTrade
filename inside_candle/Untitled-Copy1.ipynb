{
 "cells": [
  {
   "cell_type": "code",
   "execution_count": 1,
   "id": "86f2c190-707c-4d64-9906-e92dfaf41fd2",
   "metadata": {},
   "outputs": [],
   "source": [
    "import pandas as pd\n",
    "import os"
   ]
  },
  {
   "cell_type": "code",
   "execution_count": 2,
   "id": "84255535-21b0-4b8d-83b3-160fc0e27d5b",
   "metadata": {},
   "outputs": [
    {
     "data": {
      "text/plain": [
       "'D:\\\\_Learnings\\\\Career\\\\Share market\\\\FinTrade\\\\inside_candle'"
      ]
     },
     "execution_count": 2,
     "metadata": {},
     "output_type": "execute_result"
    }
   ],
   "source": [
    "os.getcwd()"
   ]
  },
  {
   "cell_type": "markdown",
   "id": "ac7ca6ee-d310-4def-92c2-70c3b83db9d6",
   "metadata": {},
   "source": [
    "## Initializing the required vars"
   ]
  },
  {
   "cell_type": "code",
   "execution_count": 3,
   "id": "10ac0e67-f661-4e0a-8614-75895f94f49c",
   "metadata": {},
   "outputs": [],
   "source": [
    "# dir_path = os.path.dirname(os.path.realpath(__file__))\n",
    "dir_path = \"D:\\_Learnings\\Career\\Share market\\FinTrade\\inside_candle\"\n",
    "\n",
    "# Nifty top 500\n",
    "nifty_500_input_name = \"nifty_500.csv\"\n",
    "nifty_500_input_name =  os.path.join(dir_path, \"DailyHistoricalData\", nifty_500_input_name)\n",
    "\n",
    "\n",
    "# Nifty top 50\n",
    "nifty_50_input_name = \"nifty_50.csv\"\n",
    "nifty_50_input_name =  os.path.join(dir_path, \"DailyHistoricalData\", nifty_50_input_name)\n",
    "\n",
    "\n",
    "# Nifty top 100\n",
    "nifty_100_input_name = \"nifty_100.csv\"\n",
    "nifty_100_input_name =  os.path.join(dir_path, \"DailyHistoricalData\", nifty_100_input_name)\n",
    "\n",
    "\n",
    "# Nifty top mid 150\n",
    "nifty_mid_150_input_name = \"nifty_mid_150.csv\"\n",
    "nifty_mid_150_input_name =  os.path.join(dir_path, \"DailyHistoricalData\", nifty_mid_150_input_name)\n",
    "\n",
    "\n",
    "# Nifty top small 250\n",
    "nifty_small_250_input_name = \"nifty_small_250.csv\"\n",
    "nifty_small_250_input_name =  os.path.join(dir_path, \"DailyHistoricalData\", nifty_small_250_input_name)\n",
    "\n",
    "\n",
    "current_date_input_file = \"20220627.csv\"\n",
    "current_date_input_file =  os.path.join(dir_path, \"DailyHistoricalData\", current_date_input_file)\n",
    "\n",
    "previous_date_input_file = \"20220624.csv\"\n",
    "previous_date_input_file =  os.path.join(dir_path, \"DailyHistoricalData\", previous_date_input_file)"
   ]
  },
  {
   "cell_type": "markdown",
   "id": "32310707-cb28-46b3-8f41-c51eb6f5e6a7",
   "metadata": {
    "tags": []
   },
   "source": [
    "## Reading current date and previous day input data"
   ]
  },
  {
   "cell_type": "code",
   "execution_count": 102,
   "id": "00f4efe0-ef8a-4495-b041-b2e97c1d7636",
   "metadata": {},
   "outputs": [],
   "source": [
    "nifty_500_df = pd.read_csv(nifty_500_input_name)\n",
    "\n",
    "nifty_50_df = pd.read_csv(nifty_50_input_name)\n",
    "nifty_100_df = pd.read_csv(nifty_100_input_name)\n",
    "nifty_mid_150_df = pd.read_csv(nifty_mid_150_input_name)\n",
    "nifty_small_250_df = pd.read_csv(nifty_small_250_input_name)\n",
    "\n",
    "# current_df = pd.read_csv(current_date_input_file)\n",
    "# previous_df = pd.read_csv(previous_date_input_file)\n",
    "\n",
    "# day_1 = pd.read_csv(current_date_input_file)\n",
    "# day_2 = pd.read_csv(previous_date_input_file)\n",
    "# day_3 = pd.read_csv(os.path.join(dir_path, \"DailyHistoricalData\", \"20220623.csv\"))\n",
    "# day_4 = pd.read_csv(os.path.join(dir_path, \"DailyHistoricalData\", \"20220622.csv\"))\n",
    "# day_5 = pd.read_csv(os.path.join(dir_path, \"DailyHistoricalData\", \"20220621.csv\"))\n",
    "# day_6 = pd.read_csv(os.path.join(dir_path, \"DailyHistoricalData\", \"20220620.csv\"))"
   ]
  },
  {
   "cell_type": "code",
   "execution_count": 68,
   "id": "4d726694-e55f-4387-914f-07af41747e2c",
   "metadata": {},
   "outputs": [],
   "source": [
    "from datetime import datetime, date, timedelta\n",
    "day = date.today()\n",
    "count = 20\n",
    "dates = []\n",
    "while count > 0:\n",
    "    if day.weekday() in [5,6]:\n",
    "        day = day - timedelta(1)\n",
    "    else:\n",
    "        dates.append(day)\n",
    "        day = day - timedelta(1)\n",
    "        count-=1"
   ]
  },
  {
   "cell_type": "code",
   "execution_count": 75,
   "id": "7a9f23bb-b5f9-4a4f-aed2-66eabc4b7c1d",
   "metadata": {},
   "outputs": [
    {
     "name": "stdout",
     "output_type": "stream",
     "text": [
      "29 06 2022\n",
      "28 06 2022\n",
      "27 06 2022\n",
      "24 06 2022\n",
      "23 06 2022\n",
      "22 06 2022\n",
      "21 06 2022\n",
      "20 06 2022\n",
      "17 06 2022\n",
      "16 06 2022\n",
      "15 06 2022\n",
      "14 06 2022\n",
      "13 06 2022\n",
      "10 06 2022\n",
      "09 06 2022\n",
      "08 06 2022\n",
      "07 06 2022\n",
      "06 06 2022\n",
      "03 06 2022\n",
      "02 06 2022\n"
     ]
    }
   ],
   "source": [
    "historical_20days = []\n",
    "for i, dt in enumerate(dates, start=1):\n",
    "    d, m, y = dt.strftime(\"%d\"),dt.strftime(\"%m\"),dt.year\n",
    "    print(d,m,y)\n",
    "    historical_20days.append(pd.read_csv(os.path.join(dir_path, \"DailyHistoricalData\", f\"{y}{m}{d}.csv\")))"
   ]
  },
  {
   "cell_type": "code",
   "execution_count": 106,
   "id": "93a70bd9-e89a-45c8-8374-ab1edb1d9549",
   "metadata": {},
   "outputs": [],
   "source": [
    "nifty_50s = nifty_50_df[\"Symbol\"].tolist()"
   ]
  },
  {
   "cell_type": "code",
   "execution_count": 121,
   "id": "47802b8d-29ba-49fb-a0bf-25894221a669",
   "metadata": {},
   "outputs": [],
   "source": [
    "nifty = {}\n",
    "for symbol in nifty_50s:\n",
    "    stock = []\n",
    "    for day in historical_20days:\n",
    "        day = day.loc[(day['SERIES'] == 'EQ') & (day['SYMBOL'] == symbol)]\n",
    "        day = day[['OPEN', 'HIGH','LOW','CLOSE','TIMESTAMP']]\n",
    "        stock.append(day)\n",
    "    nifty[symbol] = stock"
   ]
  },
  {
   "cell_type": "code",
   "execution_count": 110,
   "id": "440acdfe-cacd-46f4-9c5a-85894cc40a55",
   "metadata": {},
   "outputs": [],
   "source": [
    "import mplfinance as mpf"
   ]
  },
  {
   "cell_type": "code",
   "execution_count": 118,
   "id": "dfc56205-6591-47a1-8f94-560f1dcee2f6",
   "metadata": {},
   "outputs": [],
   "source": [
    "for key, value in nifty.items():\n",
    "    stock = pd.concat(value[::-1],ignore_index=True)\n",
    "    stock.reset_index()\n",
    "    stock.TIMESTAMP = pd.DatetimeIndex(stock['TIMESTAMP'])\n",
    "    stock = stock.set_index('TIMESTAMP')\n",
    "    stock.index.name = 'Date'\n",
    "    stock = stock.rename(columns=lambda x: x.capitalize())\n",
    "    \n",
    "    \n",
    "    ourpath = os.path.join(dir_path, \"DailyReports\", f\"{key}.png\")\n",
    "    mpf.plot(stock,type='candle',style='yahoo',title=f'{key}',savefig=ourpath)"
   ]
  },
  {
   "cell_type": "code",
   "execution_count": 112,
   "id": "990f38ac-d176-4fd5-92b7-207319be66df",
   "metadata": {},
   "outputs": [],
   "source": [
    "import img2pdf"
   ]
  },
  {
   "cell_type": "code",
   "execution_count": 120,
   "id": "deffdf44-ceb8-4424-9c26-33015d5f69a8",
   "metadata": {},
   "outputs": [
    {
     "name": "stderr",
     "output_type": "stream",
     "text": [
      "Image contains an alpha channel. Computing a separate soft mask (/SMask) image to store transparency in PDF.\n",
      "Image contains an alpha channel. Computing a separate soft mask (/SMask) image to store transparency in PDF.\n",
      "Image contains an alpha channel. Computing a separate soft mask (/SMask) image to store transparency in PDF.\n",
      "Image contains an alpha channel. Computing a separate soft mask (/SMask) image to store transparency in PDF.\n",
      "Image contains an alpha channel. Computing a separate soft mask (/SMask) image to store transparency in PDF.\n",
      "Image contains an alpha channel. Computing a separate soft mask (/SMask) image to store transparency in PDF.\n",
      "Image contains an alpha channel. Computing a separate soft mask (/SMask) image to store transparency in PDF.\n",
      "Image contains an alpha channel. Computing a separate soft mask (/SMask) image to store transparency in PDF.\n",
      "Image contains an alpha channel. Computing a separate soft mask (/SMask) image to store transparency in PDF.\n",
      "Image contains an alpha channel. Computing a separate soft mask (/SMask) image to store transparency in PDF.\n",
      "Image contains an alpha channel. Computing a separate soft mask (/SMask) image to store transparency in PDF.\n",
      "Image contains an alpha channel. Computing a separate soft mask (/SMask) image to store transparency in PDF.\n",
      "Image contains an alpha channel. Computing a separate soft mask (/SMask) image to store transparency in PDF.\n",
      "Image contains an alpha channel. Computing a separate soft mask (/SMask) image to store transparency in PDF.\n",
      "Image contains an alpha channel. Computing a separate soft mask (/SMask) image to store transparency in PDF.\n",
      "Image contains an alpha channel. Computing a separate soft mask (/SMask) image to store transparency in PDF.\n",
      "Image contains an alpha channel. Computing a separate soft mask (/SMask) image to store transparency in PDF.\n",
      "Image contains an alpha channel. Computing a separate soft mask (/SMask) image to store transparency in PDF.\n",
      "Image contains an alpha channel. Computing a separate soft mask (/SMask) image to store transparency in PDF.\n",
      "Image contains an alpha channel. Computing a separate soft mask (/SMask) image to store transparency in PDF.\n",
      "Image contains an alpha channel. Computing a separate soft mask (/SMask) image to store transparency in PDF.\n",
      "Image contains an alpha channel. Computing a separate soft mask (/SMask) image to store transparency in PDF.\n",
      "Image contains an alpha channel. Computing a separate soft mask (/SMask) image to store transparency in PDF.\n",
      "Image contains an alpha channel. Computing a separate soft mask (/SMask) image to store transparency in PDF.\n",
      "Image contains an alpha channel. Computing a separate soft mask (/SMask) image to store transparency in PDF.\n",
      "Image contains an alpha channel. Computing a separate soft mask (/SMask) image to store transparency in PDF.\n",
      "Image contains an alpha channel. Computing a separate soft mask (/SMask) image to store transparency in PDF.\n",
      "Image contains an alpha channel. Computing a separate soft mask (/SMask) image to store transparency in PDF.\n",
      "Image contains an alpha channel. Computing a separate soft mask (/SMask) image to store transparency in PDF.\n",
      "Image contains an alpha channel. Computing a separate soft mask (/SMask) image to store transparency in PDF.\n",
      "Image contains an alpha channel. Computing a separate soft mask (/SMask) image to store transparency in PDF.\n",
      "Image contains an alpha channel. Computing a separate soft mask (/SMask) image to store transparency in PDF.\n",
      "Image contains an alpha channel. Computing a separate soft mask (/SMask) image to store transparency in PDF.\n",
      "Image contains an alpha channel. Computing a separate soft mask (/SMask) image to store transparency in PDF.\n",
      "Image contains an alpha channel. Computing a separate soft mask (/SMask) image to store transparency in PDF.\n",
      "Image contains an alpha channel. Computing a separate soft mask (/SMask) image to store transparency in PDF.\n",
      "Image contains an alpha channel. Computing a separate soft mask (/SMask) image to store transparency in PDF.\n",
      "Image contains an alpha channel. Computing a separate soft mask (/SMask) image to store transparency in PDF.\n",
      "Image contains an alpha channel. Computing a separate soft mask (/SMask) image to store transparency in PDF.\n",
      "Image contains an alpha channel. Computing a separate soft mask (/SMask) image to store transparency in PDF.\n",
      "Image contains an alpha channel. Computing a separate soft mask (/SMask) image to store transparency in PDF.\n",
      "Image contains an alpha channel. Computing a separate soft mask (/SMask) image to store transparency in PDF.\n",
      "Image contains an alpha channel. Computing a separate soft mask (/SMask) image to store transparency in PDF.\n",
      "Image contains an alpha channel. Computing a separate soft mask (/SMask) image to store transparency in PDF.\n",
      "Image contains an alpha channel. Computing a separate soft mask (/SMask) image to store transparency in PDF.\n",
      "Image contains an alpha channel. Computing a separate soft mask (/SMask) image to store transparency in PDF.\n",
      "Image contains an alpha channel. Computing a separate soft mask (/SMask) image to store transparency in PDF.\n",
      "Image contains an alpha channel. Computing a separate soft mask (/SMask) image to store transparency in PDF.\n",
      "Image contains an alpha channel. Computing a separate soft mask (/SMask) image to store transparency in PDF.\n",
      "Image contains an alpha channel. Computing a separate soft mask (/SMask) image to store transparency in PDF.\n"
     ]
    }
   ],
   "source": [
    "with open(os.path.join(dir_path, \"DailyReports\", \"Report-20220629.pdf\"), \"wb\") as f:\n",
    "    f.write(img2pdf.convert([os.path.join(dir_path, \"DailyReports\", i) for i in os.listdir(os.path.join(dir_path, \"DailyReports\")) if i.endswith(\".png\")]))"
   ]
  },
  {
   "cell_type": "code",
   "execution_count": 77,
   "id": "d31f58d4-d1fe-4d3f-a5f4-bb5f661c57df",
   "metadata": {},
   "outputs": [],
   "source": [
    "SBI = []\n",
    "for day in historical_20days:\n",
    "    df_var = f'day_{i}'\n",
    "    day = day.loc[(day['SERIES'] == 'EQ') & (day['SYMBOL'] == 'SBIN')]\n",
    "    #d = eval(df_var).loc[(eval(df_var)['SERIES'] == 'EQ') & (eval(df_var)['SYMBOL'] == 'SBIN')]\n",
    "    day = day[['OPEN', 'HIGH','LOW','CLOSE','TIMESTAMP']]\n",
    "    SBI.append(day)"
   ]
  },
  {
   "cell_type": "code",
   "execution_count": null,
   "id": "db2a08c4-865f-484b-8568-a3bb2057d1a0",
   "metadata": {},
   "outputs": [],
   "source": []
  },
  {
   "cell_type": "code",
   "execution_count": 80,
   "id": "8f0e4593-b4e4-48f0-bebc-27fa2e5ff441",
   "metadata": {},
   "outputs": [
    {
     "data": {
      "text/html": [
       "<div>\n",
       "<style scoped>\n",
       "    .dataframe tbody tr th:only-of-type {\n",
       "        vertical-align: middle;\n",
       "    }\n",
       "\n",
       "    .dataframe tbody tr th {\n",
       "        vertical-align: top;\n",
       "    }\n",
       "\n",
       "    .dataframe thead th {\n",
       "        text-align: right;\n",
       "    }\n",
       "</style>\n",
       "<table border=\"1\" class=\"dataframe\">\n",
       "  <thead>\n",
       "    <tr style=\"text-align: right;\">\n",
       "      <th></th>\n",
       "      <th>Open</th>\n",
       "      <th>High</th>\n",
       "      <th>Low</th>\n",
       "      <th>Close</th>\n",
       "    </tr>\n",
       "    <tr>\n",
       "      <th>Date</th>\n",
       "      <th></th>\n",
       "      <th></th>\n",
       "      <th></th>\n",
       "      <th></th>\n",
       "    </tr>\n",
       "  </thead>\n",
       "  <tbody>\n",
       "    <tr>\n",
       "      <th>2022-06-02</th>\n",
       "      <td>466.90</td>\n",
       "      <td>472.35</td>\n",
       "      <td>466.15</td>\n",
       "      <td>469.85</td>\n",
       "    </tr>\n",
       "    <tr>\n",
       "      <th>2022-06-03</th>\n",
       "      <td>473.25</td>\n",
       "      <td>475.50</td>\n",
       "      <td>463.50</td>\n",
       "      <td>464.50</td>\n",
       "    </tr>\n",
       "    <tr>\n",
       "      <th>2022-06-06</th>\n",
       "      <td>464.20</td>\n",
       "      <td>465.60</td>\n",
       "      <td>456.50</td>\n",
       "      <td>463.70</td>\n",
       "    </tr>\n",
       "    <tr>\n",
       "      <th>2022-06-07</th>\n",
       "      <td>461.85</td>\n",
       "      <td>465.95</td>\n",
       "      <td>460.50</td>\n",
       "      <td>463.40</td>\n",
       "    </tr>\n",
       "    <tr>\n",
       "      <th>2022-06-08</th>\n",
       "      <td>466.60</td>\n",
       "      <td>475.55</td>\n",
       "      <td>463.20</td>\n",
       "      <td>471.30</td>\n",
       "    </tr>\n",
       "    <tr>\n",
       "      <th>2022-06-09</th>\n",
       "      <td>468.95</td>\n",
       "      <td>470.90</td>\n",
       "      <td>462.45</td>\n",
       "      <td>466.95</td>\n",
       "    </tr>\n",
       "    <tr>\n",
       "      <th>2022-06-10</th>\n",
       "      <td>462.00</td>\n",
       "      <td>464.15</td>\n",
       "      <td>458.60</td>\n",
       "      <td>461.85</td>\n",
       "    </tr>\n",
       "    <tr>\n",
       "      <th>2022-06-13</th>\n",
       "      <td>454.00</td>\n",
       "      <td>454.05</td>\n",
       "      <td>442.10</td>\n",
       "      <td>445.85</td>\n",
       "    </tr>\n",
       "    <tr>\n",
       "      <th>2022-06-14</th>\n",
       "      <td>445.00</td>\n",
       "      <td>449.25</td>\n",
       "      <td>443.35</td>\n",
       "      <td>448.10</td>\n",
       "    </tr>\n",
       "    <tr>\n",
       "      <th>2022-06-15</th>\n",
       "      <td>448.95</td>\n",
       "      <td>455.45</td>\n",
       "      <td>448.60</td>\n",
       "      <td>451.35</td>\n",
       "    </tr>\n",
       "    <tr>\n",
       "      <th>2022-06-16</th>\n",
       "      <td>455.15</td>\n",
       "      <td>457.75</td>\n",
       "      <td>440.15</td>\n",
       "      <td>441.60</td>\n",
       "    </tr>\n",
       "    <tr>\n",
       "      <th>2022-06-17</th>\n",
       "      <td>440.00</td>\n",
       "      <td>447.55</td>\n",
       "      <td>437.25</td>\n",
       "      <td>441.00</td>\n",
       "    </tr>\n",
       "    <tr>\n",
       "      <th>2022-06-20</th>\n",
       "      <td>441.50</td>\n",
       "      <td>443.45</td>\n",
       "      <td>430.70</td>\n",
       "      <td>434.70</td>\n",
       "    </tr>\n",
       "    <tr>\n",
       "      <th>2022-06-21</th>\n",
       "      <td>439.50</td>\n",
       "      <td>454.95</td>\n",
       "      <td>437.60</td>\n",
       "      <td>450.75</td>\n",
       "    </tr>\n",
       "    <tr>\n",
       "      <th>2022-06-22</th>\n",
       "      <td>448.75</td>\n",
       "      <td>451.20</td>\n",
       "      <td>444.65</td>\n",
       "      <td>447.65</td>\n",
       "    </tr>\n",
       "    <tr>\n",
       "      <th>2022-06-23</th>\n",
       "      <td>449.00</td>\n",
       "      <td>456.45</td>\n",
       "      <td>446.00</td>\n",
       "      <td>451.40</td>\n",
       "    </tr>\n",
       "    <tr>\n",
       "      <th>2022-06-24</th>\n",
       "      <td>455.80</td>\n",
       "      <td>460.35</td>\n",
       "      <td>453.20</td>\n",
       "      <td>454.25</td>\n",
       "    </tr>\n",
       "    <tr>\n",
       "      <th>2022-06-27</th>\n",
       "      <td>459.95</td>\n",
       "      <td>464.85</td>\n",
       "      <td>458.05</td>\n",
       "      <td>461.20</td>\n",
       "    </tr>\n",
       "    <tr>\n",
       "      <th>2022-06-28</th>\n",
       "      <td>458.90</td>\n",
       "      <td>465.75</td>\n",
       "      <td>458.00</td>\n",
       "      <td>464.25</td>\n",
       "    </tr>\n",
       "    <tr>\n",
       "      <th>2022-06-29</th>\n",
       "      <td>460.00</td>\n",
       "      <td>462.70</td>\n",
       "      <td>458.00</td>\n",
       "      <td>459.10</td>\n",
       "    </tr>\n",
       "  </tbody>\n",
       "</table>\n",
       "</div>"
      ],
      "text/plain": [
       "              Open    High     Low   Close\n",
       "Date                                      \n",
       "2022-06-02  466.90  472.35  466.15  469.85\n",
       "2022-06-03  473.25  475.50  463.50  464.50\n",
       "2022-06-06  464.20  465.60  456.50  463.70\n",
       "2022-06-07  461.85  465.95  460.50  463.40\n",
       "2022-06-08  466.60  475.55  463.20  471.30\n",
       "2022-06-09  468.95  470.90  462.45  466.95\n",
       "2022-06-10  462.00  464.15  458.60  461.85\n",
       "2022-06-13  454.00  454.05  442.10  445.85\n",
       "2022-06-14  445.00  449.25  443.35  448.10\n",
       "2022-06-15  448.95  455.45  448.60  451.35\n",
       "2022-06-16  455.15  457.75  440.15  441.60\n",
       "2022-06-17  440.00  447.55  437.25  441.00\n",
       "2022-06-20  441.50  443.45  430.70  434.70\n",
       "2022-06-21  439.50  454.95  437.60  450.75\n",
       "2022-06-22  448.75  451.20  444.65  447.65\n",
       "2022-06-23  449.00  456.45  446.00  451.40\n",
       "2022-06-24  455.80  460.35  453.20  454.25\n",
       "2022-06-27  459.95  464.85  458.05  461.20\n",
       "2022-06-28  458.90  465.75  458.00  464.25\n",
       "2022-06-29  460.00  462.70  458.00  459.10"
      ]
     },
     "execution_count": 80,
     "metadata": {},
     "output_type": "execute_result"
    }
   ],
   "source": [
    "sbi = pd.concat(SBI[::-1],ignore_index=True)\n",
    "sbi.reset_index()\n",
    "sbi.TIMESTAMP = pd.DatetimeIndex(sbi['TIMESTAMP'])\n",
    "sbi = sbi.set_index('TIMESTAMP')\n",
    "sbi.index.name = 'Date'\n",
    "sbi = sbi.rename(columns=lambda x: x.capitalize())\n",
    "sbi"
   ]
  },
  {
   "cell_type": "code",
   "execution_count": 81,
   "id": "22e4cb3e-fa54-464f-8505-2549905dad5f",
   "metadata": {},
   "outputs": [],
   "source": [
    "import mplfinance as mpf"
   ]
  },
  {
   "cell_type": "code",
   "execution_count": 101,
   "id": "19e1807a-2401-4ea8-add0-14a3d45c0835",
   "metadata": {},
   "outputs": [],
   "source": [
    "ourpath = os.path.join(dir_path, \"DailyHistoricalData\", \"sbi.png\")\n",
    "mpf.plot(sbi,type='candle',style='yahoo',title='SBI',savefig=ourpath)"
   ]
  },
  {
   "cell_type": "code",
   "execution_count": 95,
   "id": "cdc84975-a215-47c6-af2d-b5bbea5f66cc",
   "metadata": {},
   "outputs": [
    {
     "name": "stdout",
     "output_type": "stream",
     "text": [
      "['__builtins__', '__cached__', '__doc__', '__file__', '__loader__', '__name__', '__package__', '__path__', '__spec__', '__version__', '_arg_validators', '_helpers', '_kwarg_help', '_mpf_warnings', '_mplwraps', '_panels', '_styledata', '_styles', '_utils', '_version', '_widths', 'available_styles', 'figure', 'kwarg_help', 'make_addplot', 'make_marketcolors', 'make_mpf_style', 'mplfinance', 'plot', 'plotting', 'show', 'write_style_file']\n"
     ]
    }
   ],
   "source": [
    "print(dir(mpf))"
   ]
  },
  {
   "cell_type": "code",
   "execution_count": 100,
   "id": "554fc983-90cc-47b1-9a15-3e1fc990c5da",
   "metadata": {},
   "outputs": [
    {
     "name": "stdout",
     "output_type": "stream",
     "text": [
      "Help on function write_style_file in module mplfinance._styles:\n",
      "\n",
      "write_style_file(style, filename)\n",
      "\n"
     ]
    }
   ],
   "source": [
    "help(mpf.write_style_file)"
   ]
  },
  {
   "cell_type": "code",
   "execution_count": 19,
   "id": "cf2f3c7d-e26e-4081-8a60-ebd1edf39a1b",
   "metadata": {},
   "outputs": [],
   "source": [
    "# current_df = current_df.rename(columns=lambda x: x.strip())\n",
    "# previous_df= previous_df.rename(columns=lambda x: x.strip())\n",
    "# day_1 = day_1.rename(columns=lambda x: x.strip())\n",
    "# day_2 = day_2.rename(columns=lambda x: x.strip())\n",
    "# day_3 = day_3.rename(columns=lambda x: x.strip())\n",
    "# day_4 = day_4.rename(columns=lambda x: x.strip())\n",
    "# day_5 = day_5.rename(columns=lambda x: x.strip())\n",
    "# day_6 = day_5.rename(columns=lambda x: x.strip())"
   ]
  },
  {
   "cell_type": "code",
   "execution_count": 40,
   "id": "bc7f5394-217c-4983-af70-6b1cd1772012",
   "metadata": {},
   "outputs": [],
   "source": [
    "SBI = []\n",
    "for i in range(1,7):\n",
    "    df_var = f'day_{i}'\n",
    "    d = eval(df_var).loc[(eval(df_var)['SERIES'] == 'EQ') & (eval(df_var)['SYMBOL'] == 'SBIN')]\n",
    "    d = d[['OPEN', 'HIGH','LOW','CLOSE','TIMESTAMP']]\n",
    "    SBI.append(d)"
   ]
  },
  {
   "cell_type": "code",
   "execution_count": 41,
   "id": "846e0896-0753-4ffd-ba43-d8c6d22124f1",
   "metadata": {},
   "outputs": [
    {
     "data": {
      "text/plain": [
       "[        OPEN    HIGH     LOW  CLOSE    TIMESTAMP\n",
       " 1700  459.95  464.85  458.05  461.2  27-JUN-2022,\n",
       "        OPEN    HIGH    LOW   CLOSE    TIMESTAMP\n",
       " 1693  455.8  460.35  453.2  454.25  24-JUN-2022,\n",
       "        OPEN    HIGH    LOW  CLOSE    TIMESTAMP\n",
       " 1689  449.0  456.45  446.0  451.4  23-JUN-2022,\n",
       "         OPEN   HIGH     LOW   CLOSE    TIMESTAMP\n",
       " 1696  448.75  451.2  444.65  447.65  22-JUN-2022,\n",
       "        OPEN    HIGH    LOW   CLOSE    TIMESTAMP\n",
       " 1711  439.5  454.95  437.6  450.75  21-JUN-2022,\n",
       "        OPEN    HIGH    LOW   CLOSE    TIMESTAMP\n",
       " 1711  439.5  454.95  437.6  450.75  21-JUN-2022]"
      ]
     },
     "execution_count": 41,
     "metadata": {},
     "output_type": "execute_result"
    }
   ],
   "source": [
    "SBI"
   ]
  },
  {
   "cell_type": "code",
   "execution_count": 25,
   "id": "1122f7d5-c181-4dec-a917-ea96020a9b75",
   "metadata": {},
   "outputs": [
    {
     "data": {
      "text/html": [
       "<div>\n",
       "<style scoped>\n",
       "    .dataframe tbody tr th:only-of-type {\n",
       "        vertical-align: middle;\n",
       "    }\n",
       "\n",
       "    .dataframe tbody tr th {\n",
       "        vertical-align: top;\n",
       "    }\n",
       "\n",
       "    .dataframe thead th {\n",
       "        text-align: right;\n",
       "    }\n",
       "</style>\n",
       "<table border=\"1\" class=\"dataframe\">\n",
       "  <thead>\n",
       "    <tr style=\"text-align: right;\">\n",
       "      <th></th>\n",
       "      <th>SYMBOL</th>\n",
       "      <th>SERIES</th>\n",
       "      <th>OPEN</th>\n",
       "      <th>HIGH</th>\n",
       "      <th>LOW</th>\n",
       "      <th>CLOSE</th>\n",
       "      <th>LAST</th>\n",
       "      <th>PREVCLOSE</th>\n",
       "      <th>TOTTRDQTY</th>\n",
       "      <th>TOTTRDVAL</th>\n",
       "      <th>TIMESTAMP</th>\n",
       "      <th>TOTALTRADES</th>\n",
       "      <th>ISIN</th>\n",
       "      <th>Unnamed: 13</th>\n",
       "    </tr>\n",
       "  </thead>\n",
       "  <tbody>\n",
       "    <tr>\n",
       "      <th>1700</th>\n",
       "      <td>SBIN</td>\n",
       "      <td>EQ</td>\n",
       "      <td>459.95</td>\n",
       "      <td>464.85</td>\n",
       "      <td>458.05</td>\n",
       "      <td>461.2</td>\n",
       "      <td>461.55</td>\n",
       "      <td>454.25</td>\n",
       "      <td>9509175</td>\n",
       "      <td>4.385421e+09</td>\n",
       "      <td>27-JUN-2022</td>\n",
       "      <td>103487</td>\n",
       "      <td>INE062A01020</td>\n",
       "      <td>NaN</td>\n",
       "    </tr>\n",
       "  </tbody>\n",
       "</table>\n",
       "</div>"
      ],
      "text/plain": [
       "     SYMBOL SERIES    OPEN    HIGH     LOW  CLOSE    LAST  PREVCLOSE  \\\n",
       "1700   SBIN     EQ  459.95  464.85  458.05  461.2  461.55     454.25   \n",
       "\n",
       "      TOTTRDQTY     TOTTRDVAL    TIMESTAMP  TOTALTRADES          ISIN  \\\n",
       "1700    9509175  4.385421e+09  27-JUN-2022       103487  INE062A01020   \n",
       "\n",
       "      Unnamed: 13  \n",
       "1700          NaN  "
      ]
     },
     "execution_count": 25,
     "metadata": {},
     "output_type": "execute_result"
    }
   ],
   "source": [
    "i = 1\n",
    "s = f'day_{i}'\n",
    "eval(s).loc[(day_1['SERIES'] == 'EQ') & (day_1['SYMBOL'] == 'SBIN')]"
   ]
  },
  {
   "cell_type": "code",
   "execution_count": 15,
   "id": "a4f35a13-9a0f-44be-9735-211729282c4c",
   "metadata": {},
   "outputs": [],
   "source": [
    "c_sbi = current_df.loc[(current_df['SERIES'] == 'EQ') & (current_df['SYMBOL'] == 'SBIN')]\n",
    "p_sbi = previous_df.loc[(previous_df['SERIES'] == 'EQ') & (previous_df['SYMBOL'] == 'SBIN')]\n",
    "\n",
    "\n"
   ]
  },
  {
   "cell_type": "code",
   "execution_count": 16,
   "id": "90d5e4d3-c120-4152-b199-0aaae1555d4b",
   "metadata": {},
   "outputs": [
    {
     "data": {
      "text/html": [
       "<div>\n",
       "<style scoped>\n",
       "    .dataframe tbody tr th:only-of-type {\n",
       "        vertical-align: middle;\n",
       "    }\n",
       "\n",
       "    .dataframe tbody tr th {\n",
       "        vertical-align: top;\n",
       "    }\n",
       "\n",
       "    .dataframe thead th {\n",
       "        text-align: right;\n",
       "    }\n",
       "</style>\n",
       "<table border=\"1\" class=\"dataframe\">\n",
       "  <thead>\n",
       "    <tr style=\"text-align: right;\">\n",
       "      <th></th>\n",
       "      <th>SYMBOL</th>\n",
       "      <th>SERIES</th>\n",
       "      <th>OPEN</th>\n",
       "      <th>HIGH</th>\n",
       "      <th>LOW</th>\n",
       "      <th>CLOSE</th>\n",
       "      <th>LAST</th>\n",
       "      <th>PREVCLOSE</th>\n",
       "      <th>TOTTRDQTY</th>\n",
       "      <th>TOTTRDVAL</th>\n",
       "      <th>TIMESTAMP</th>\n",
       "      <th>TOTALTRADES</th>\n",
       "      <th>ISIN</th>\n",
       "      <th>Unnamed: 13</th>\n",
       "    </tr>\n",
       "  </thead>\n",
       "  <tbody>\n",
       "    <tr>\n",
       "      <th>1700</th>\n",
       "      <td>SBIN</td>\n",
       "      <td>EQ</td>\n",
       "      <td>459.95</td>\n",
       "      <td>464.85</td>\n",
       "      <td>458.05</td>\n",
       "      <td>461.2</td>\n",
       "      <td>461.55</td>\n",
       "      <td>454.25</td>\n",
       "      <td>9509175</td>\n",
       "      <td>4.385421e+09</td>\n",
       "      <td>27-JUN-2022</td>\n",
       "      <td>103487</td>\n",
       "      <td>INE062A01020</td>\n",
       "      <td>NaN</td>\n",
       "    </tr>\n",
       "  </tbody>\n",
       "</table>\n",
       "</div>"
      ],
      "text/plain": [
       "     SYMBOL SERIES    OPEN    HIGH     LOW  CLOSE    LAST  PREVCLOSE  \\\n",
       "1700   SBIN     EQ  459.95  464.85  458.05  461.2  461.55     454.25   \n",
       "\n",
       "      TOTTRDQTY     TOTTRDVAL    TIMESTAMP  TOTALTRADES          ISIN  \\\n",
       "1700    9509175  4.385421e+09  27-JUN-2022       103487  INE062A01020   \n",
       "\n",
       "      Unnamed: 13  \n",
       "1700          NaN  "
      ]
     },
     "execution_count": 16,
     "metadata": {},
     "output_type": "execute_result"
    }
   ],
   "source": [
    "c_sbi"
   ]
  },
  {
   "cell_type": "code",
   "execution_count": 54,
   "id": "6d7bb3d6-097d-4b7e-acf2-9638674ca542",
   "metadata": {},
   "outputs": [
    {
     "data": {
      "text/html": [
       "<div>\n",
       "<style scoped>\n",
       "    .dataframe tbody tr th:only-of-type {\n",
       "        vertical-align: middle;\n",
       "    }\n",
       "\n",
       "    .dataframe tbody tr th {\n",
       "        vertical-align: top;\n",
       "    }\n",
       "\n",
       "    .dataframe thead th {\n",
       "        text-align: right;\n",
       "    }\n",
       "</style>\n",
       "<table border=\"1\" class=\"dataframe\">\n",
       "  <thead>\n",
       "    <tr style=\"text-align: right;\">\n",
       "      <th></th>\n",
       "      <th>Open</th>\n",
       "      <th>High</th>\n",
       "      <th>Low</th>\n",
       "      <th>Close</th>\n",
       "    </tr>\n",
       "    <tr>\n",
       "      <th>Date</th>\n",
       "      <th></th>\n",
       "      <th></th>\n",
       "      <th></th>\n",
       "      <th></th>\n",
       "    </tr>\n",
       "  </thead>\n",
       "  <tbody>\n",
       "    <tr>\n",
       "      <th>2022-06-21</th>\n",
       "      <td>439.50</td>\n",
       "      <td>454.95</td>\n",
       "      <td>437.60</td>\n",
       "      <td>450.75</td>\n",
       "    </tr>\n",
       "    <tr>\n",
       "      <th>2022-06-21</th>\n",
       "      <td>439.50</td>\n",
       "      <td>454.95</td>\n",
       "      <td>437.60</td>\n",
       "      <td>450.75</td>\n",
       "    </tr>\n",
       "    <tr>\n",
       "      <th>2022-06-22</th>\n",
       "      <td>448.75</td>\n",
       "      <td>451.20</td>\n",
       "      <td>444.65</td>\n",
       "      <td>447.65</td>\n",
       "    </tr>\n",
       "    <tr>\n",
       "      <th>2022-06-23</th>\n",
       "      <td>449.00</td>\n",
       "      <td>456.45</td>\n",
       "      <td>446.00</td>\n",
       "      <td>451.40</td>\n",
       "    </tr>\n",
       "    <tr>\n",
       "      <th>2022-06-24</th>\n",
       "      <td>455.80</td>\n",
       "      <td>460.35</td>\n",
       "      <td>453.20</td>\n",
       "      <td>454.25</td>\n",
       "    </tr>\n",
       "    <tr>\n",
       "      <th>2022-06-27</th>\n",
       "      <td>459.95</td>\n",
       "      <td>464.85</td>\n",
       "      <td>458.05</td>\n",
       "      <td>461.20</td>\n",
       "    </tr>\n",
       "  </tbody>\n",
       "</table>\n",
       "</div>"
      ],
      "text/plain": [
       "              Open    High     Low   Close\n",
       "Date                                      \n",
       "2022-06-21  439.50  454.95  437.60  450.75\n",
       "2022-06-21  439.50  454.95  437.60  450.75\n",
       "2022-06-22  448.75  451.20  444.65  447.65\n",
       "2022-06-23  449.00  456.45  446.00  451.40\n",
       "2022-06-24  455.80  460.35  453.20  454.25\n",
       "2022-06-27  459.95  464.85  458.05  461.20"
      ]
     },
     "execution_count": 54,
     "metadata": {},
     "output_type": "execute_result"
    }
   ],
   "source": [
    "sbi = pd.concat(SBI[::-1],ignore_index=True)\n",
    "sbi.reset_index()\n",
    "sbi.TIMESTAMP = pd.DatetimeIndex(sbi['TIMESTAMP'])\n",
    "sbi = sbi.set_index('TIMESTAMP')\n",
    "sbi.index.name = 'Date'\n",
    "sbi = sbi.rename(columns=lambda x: x.capitalize())\n",
    "sbi"
   ]
  },
  {
   "cell_type": "code",
   "execution_count": 55,
   "id": "f0cf4920-ab98-4bf6-a63d-deaa4bff4cf6",
   "metadata": {},
   "outputs": [],
   "source": [
    "import mplfinance as mpf"
   ]
  },
  {
   "cell_type": "code",
   "execution_count": 58,
   "id": "9abcb325-c7da-4668-8cdd-56b8a31c1403",
   "metadata": {},
   "outputs": [
    {
     "name": "stdout",
     "output_type": "stream",
     "text": [
      "Help on function plot in module mplfinance.plotting:\n",
      "\n",
      "plot(data, **kwargs)\n",
      "    Given a Pandas DataFrame containing columns Open,High,Low,Close and optionally Volume\n",
      "    with a DatetimeIndex, plot the data.\n",
      "    Available plots include ohlc bars, candlestick, and line plots.\n",
      "    Also provide visually analysis in the form of common technical studies, such as:\n",
      "    moving averages, renko, etc.\n",
      "    Also provide ability to plot trading signals, and/or addtional user-defined data.\n",
      "\n"
     ]
    }
   ],
   "source": [
    "help(mpf.plot)"
   ]
  },
  {
   "cell_type": "code",
   "execution_count": null,
   "id": "8d727e10-94b9-40e7-badc-121b65dd1e9f",
   "metadata": {},
   "outputs": [],
   "source": [
    "# # https://coderzcolumn.com/tutorials/data-science/candlestick-chart-in-python-mplfinance-plotly-bokeh\n",
    "# fplt.plot(\n",
    "#             apple_df,\n",
    "#             type='candle',\n",
    "#             style='charles',\n",
    "#             title='Apple, March - 2020',\n",
    "#             ylabel='Price ($)',\n",
    "#             )"
   ]
  },
  {
   "cell_type": "code",
   "execution_count": 67,
   "id": "6c156e06-ff8e-4473-8fe4-caafcb043bb3",
   "metadata": {},
   "outputs": [
    {
     "data": {
      "image/png": "[encoded data removed]",
      "text/plain": [
       "<Figure size 800x575 with 2 Axes>"
      ]
     },
     "metadata": {},
     "output_type": "display_data"
    }
   ],
   "source": [
    "mpf.plot(sbi,type='candle',style='yahoo')#,style='charles')"
   ]
  },
  {
   "cell_type": "code",
   "execution_count": 64,
   "id": "6907daf6-f485-43c7-bc17-a16fd754bc08",
   "metadata": {},
   "outputs": [
    {
     "data": {
      "image/png": "[encoded data removed]",
      "text/plain": [
       "<Figure size 862.5x575 with 2 Axes>"
      ]
     },
     "metadata": {},
     "output_type": "display_data"
    }
   ],
   "source": [
    "mc = mpf.make_marketcolors(\n",
    "                            up='tab:green',down='tab:red',\n",
    "                            edge={'up':'green','down':'red'},\n",
    "                            wick={'up':'green','down':'red'},\n",
    "                            volume='tab:green',\n",
    "                           )\n",
    "\n",
    "s  = mpf.make_mpf_style(marketcolors=mc)\n",
    "\n",
    "mpf.plot(\n",
    "        sbi,\n",
    "        type=\"candle\",\n",
    "        title='Apple, March - 2020',\n",
    "        ylabel='Price ($)',\n",
    "        figratio=(12,8),\n",
    "        ylabel_lower='Shares\\nTraded',\n",
    "        show_nontrading=True,\n",
    "        style=s\n",
    "    )"
   ]
  },
  {
   "cell_type": "code",
   "execution_count": null,
   "id": "d8364098-022e-4ae4-a7d0-e91a0fea2706",
   "metadata": {},
   "outputs": [],
   "source": [
    "def isInsideCandle(O,H,L,C):\n",
    "    change = O - C\n",
    "    percentage_change = (abs(change/O)) * 100\n",
    "    wick_change_threshold = 3 * percentage_change\n",
    "    if change >= 0:\n",
    "        change_H = H - C \n",
    "        change_L = abs(L - O)\n",
    "        change_H = (change_H/C)*100\n",
    "        change_L = (change_L/O)*100\n",
    "    else:\n",
    "        change_H = H - O \n",
    "        change_L = abs(L - O)\n",
    "        change_H = (change_H/O)*100\n",
    "        change_L = (change_L/C)*100\n",
    "        \n",
    "    wick_change = change_H > wick_change_threshold and change_L > wick_change_threshold\n",
    "    \n",
    "    \n",
    "    \n",
    "    if percentage_change < 0.2 and wick_change :\n",
    "        return True\n",
    "    return False"
   ]
  },
  {
   "cell_type": "markdown",
   "id": "15da7934-9460-41e2-a4ba-aa4820e7940e",
   "metadata": {},
   "source": [
    "## Cleaning data Nifty 500"
   ]
  },
  {
   "cell_type": "code",
   "execution_count": null,
   "id": "14438e30-7fc2-449e-9e48-0dc7b02a068f",
   "metadata": {},
   "outputs": [],
   "source": [
    "# Cleaning data and saving only EQ and Nifty 500\n",
    "nifty_500s = nifty_500_df[\"Symbol\"]\n",
    "\n",
    "current_df = current_df.loc[current_df['SERIES'] == 'EQ']\n",
    "current_df= current_df.loc[current_df['SYMBOL'].isin(nifty_500s)]\n",
    "\n",
    "previous_df = previous_df.loc[previous_df['SERIES'] == 'EQ']\n",
    "previous_df = previous_df.loc[previous_df['SYMBOL'].isin(nifty_500s)]"
   ]
  },
  {
   "cell_type": "code",
   "execution_count": null,
   "id": "dcdc8cd3-e8c8-4aba-81ea-2ad5bbf9575d",
   "metadata": {},
   "outputs": [],
   "source": [
    "current_df['InsideCandle'] = current_df.apply(lambda row: isInsideCandle(row['OPEN'], row['HIGH'], row['LOW'], row['CLOSE']), axis=1)\n",
    "trade_500_df = current_df.loc[current_df['InsideCandle'] == True]\n",
    "trade_500_df = trade_500_df.reset_index()\n",
    "trade_500_df.SYMBOL"
   ]
  },
  {
   "cell_type": "markdown",
   "id": "ac72cb8c-52a9-4897-8c5d-16dfd3b7aeb6",
   "metadata": {},
   "source": [
    "## Nifty 50"
   ]
  },
  {
   "cell_type": "code",
   "execution_count": null,
   "id": "b069a2f9-8aee-4f73-b1f9-749007d505fb",
   "metadata": {},
   "outputs": [],
   "source": [
    "# Cleaning data and saving only EQ and Nifty 500\n",
    "nifty_50s = nifty_50_df[\"Symbol\"]\n",
    "\n",
    "current_50_df= current_df.loc[current_df['SYMBOL'].isin(nifty_50s)]\n",
    "previous_50_df = previous_df.loc[previous_df['SYMBOL'].isin(nifty_50s)]"
   ]
  },
  {
   "cell_type": "code",
   "execution_count": null,
   "id": "0d9a219f-f473-4bfe-a4f5-3058fb3eafe3",
   "metadata": {},
   "outputs": [],
   "source": [
    "trade_50_df = current_50_df.loc[current_50_df['InsideCandle'] == True]\n",
    "trade_50_df = trade_50_df.reset_index()\n",
    "trade_50_df.SYMBOL"
   ]
  },
  {
   "cell_type": "markdown",
   "id": "73e35206-690d-46ff-91a4-fdc7ba4759b8",
   "metadata": {},
   "source": [
    "## Nifty 100"
   ]
  },
  {
   "cell_type": "code",
   "execution_count": null,
   "id": "79e604aa-f633-4b86-a51e-14831b9e91f9",
   "metadata": {},
   "outputs": [],
   "source": [
    "# Cleaning data and saving only EQ and Nifty 500\n",
    "nifty_100s = nifty_100_df[\"Symbol\"]\n",
    "\n",
    "current_100_df= current_df.loc[current_df['SYMBOL'].isin(nifty_100s)]\n",
    "\n",
    "previous_100_df = previous_df.loc[previous_df['SYMBOL'].isin(nifty_100s)]"
   ]
  },
  {
   "cell_type": "code",
   "execution_count": null,
   "id": "b8afb038-9e6d-4d01-83a4-104812e4e557",
   "metadata": {},
   "outputs": [],
   "source": [
    "trade_100_df = current_100_df.loc[current_100_df['InsideCandle'] == True]\n",
    "trade_100_df = trade_100_df.reset_index()\n",
    "trade_100_df.SYMBOL"
   ]
  },
  {
   "cell_type": "markdown",
   "id": "7cdc8eb6-7bad-48f6-941b-b5fdf7d9655c",
   "metadata": {},
   "source": [
    "## Nifty mid 150"
   ]
  },
  {
   "cell_type": "code",
   "execution_count": null,
   "id": "284684f8-2930-42b4-b696-6df2ae0bc04d",
   "metadata": {},
   "outputs": [],
   "source": [
    "# Cleaning data and saving only EQ and Nifty 500\n",
    "nifty_mid_150s = nifty_mid_150_df[\"Symbol\"]\n",
    "\n",
    "current_150_df= current_df.loc[current_df['SYMBOL'].isin(nifty_mid_150s)]\n",
    "\n",
    "previous_150_df = previous_df.loc[previous_df['SYMBOL'].isin(nifty_mid_150s)]"
   ]
  },
  {
   "cell_type": "code",
   "execution_count": null,
   "id": "2a87255c-60bb-4ec4-acf5-77733e4984c5",
   "metadata": {},
   "outputs": [],
   "source": [
    "trade_150_df = current_150_df.loc[current_150_df['InsideCandle'] == True]\n",
    "trade_150_df = trade_150_df.reset_index()\n",
    "trade_150_df.SYMBOL"
   ]
  },
  {
   "cell_type": "markdown",
   "id": "61b36175-8a2c-46aa-86bd-7e1cc6fef2b2",
   "metadata": {},
   "source": [
    "## Nifty small 250"
   ]
  },
  {
   "cell_type": "code",
   "execution_count": null,
   "id": "ee508cd4-7137-400a-9a33-72eac2427f1c",
   "metadata": {},
   "outputs": [],
   "source": [
    "# Cleaning data and saving only EQ and Nifty 500\n",
    "nifty_small_250s = nifty_small_250_df[\"Symbol\"]\n",
    "\n",
    "current_250_df= current_df.loc[current_df['SYMBOL'].isin(nifty_small_250s)]\n",
    "\n",
    "previous_250_df = previous_df.loc[previous_df['SYMBOL'].isin(nifty_small_250s)]"
   ]
  },
  {
   "cell_type": "code",
   "execution_count": null,
   "id": "a96878e2-017b-4176-9f4b-f6e4fe2c059b",
   "metadata": {},
   "outputs": [],
   "source": [
    "trade_250_df = current_250_df.loc[current_250_df['InsideCandle'] == True]\n",
    "trade_250_df = trade_250_df.reset_index()\n",
    "trade_250_df.SYMBOL"
   ]
  },
  {
   "cell_type": "code",
   "execution_count": null,
   "id": "d5739b41-7a8d-4c40-8cbe-12b984117bde",
   "metadata": {},
   "outputs": [],
   "source": []
  }
 ],
 "metadata": {
  "kernelspec": {
   "display_name": "Python 3 (ipykernel)",
   "language": "python",
   "name": "python3"
  },
  "language_info": {
   "codemirror_mode": {
    "name": "ipython",
    "version": 3
   },
   "file_extension": ".py",
   "mimetype": "text/x-python",
   "name": "python",
   "nbconvert_exporter": "python",
   "pygments_lexer": "ipython3",
   "version": "3.10.2"
  }
 },
 "nbformat": 4,
 "nbformat_minor": 5
}
